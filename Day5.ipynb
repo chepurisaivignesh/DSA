{
  "nbformat": 4,
  "nbformat_minor": 0,
  "metadata": {
    "colab": {
      "name": "Day5.ipynb",
      "provenance": [],
      "authorship_tag": "ABX9TyPcUw6oCz4CzSG6/z/Ci25w",
      "include_colab_link": true
    },
    "kernelspec": {
      "name": "python3",
      "display_name": "Python 3"
    },
    "language_info": {
      "name": "python"
    }
  },
  "cells": [
    {
      "cell_type": "markdown",
      "metadata": {
        "id": "view-in-github",
        "colab_type": "text"
      },
      "source": [
        "<a href=\"https://colab.research.google.com/github/chepurisaivignesh/chv_DSA_sprint/blob/main/Day5.ipynb\" target=\"_parent\"><img src=\"https://colab.research.google.com/assets/colab-badge.svg\" alt=\"Open In Colab\"/></a>"
      ]
    },
    {
      "cell_type": "markdown",
      "source": [
        "You are given an array of N+2 integer elements. All elements of the array are in range 1 to N. Also, all elements occur once except two numbers which occur twice. Find the two repeating numbers.\n",
        "\n",
        "Example 1:\n",
        "\n",
        "Input:\n",
        "N = 4\n",
        "array[] = {1,2,1,3,4,3}\n",
        "Output: 1 3\n",
        "\n",
        "Explanation: In the given array, \n",
        "1 and 3 are repeated two times.\n",
        "\n",
        "Example 2:\n",
        "\n",
        "Input:\n",
        "N = 2\n",
        "array[] = {1,2,2,1}\n",
        "Output: 2 1\n",
        "\n",
        "Explanation: In the given array,\n",
        "1 and 2 are repeated two times \n",
        "and second occurence of 2 comes \n",
        "before 1. So the output is 2 1."
      ],
      "metadata": {
        "id": "ulGGKZ_9rG4d"
      }
    },
    {
      "cell_type": "code",
      "execution_count": null,
      "metadata": {
        "id": "rzb8TuVsqhnO"
      },
      "outputs": [],
      "source": [
        "def twoRepeated(self,arr,N):\n",
        "        s = set()\n",
        "        result = []\n",
        "        for i in range(len(arr)):\n",
        "            if arr[i] in s:\n",
        "                result.append(arr[i])\n",
        "            else:\n",
        "                s.add(arr[i])\n",
        "        return result"
      ]
    },
    {
      "cell_type": "markdown",
      "source": [
        "Given an array A of N integers, find any 3 elements in it such that A[i] < A[j] < A[k] and i < j < k.\n",
        "\n",
        "Example 1:\n",
        "\n",
        "Input:\n",
        "N = 5\n",
        "A[] = {1,2,1,1,3}\n",
        "Output: 1\n",
        "\n",
        "Explanation: a sub-sequence 1 2 3 exist.\n",
        "\n",
        "Example 2:\n",
        "\n",
        "Input:\n",
        "N = 3\n",
        "A[] = {1,1,3}\n",
        "Output: 0\n",
        "\n",
        "Explanation: no such sub-sequence exist."
      ],
      "metadata": {
        "id": "6a9vwee7UjAE"
      }
    },
    {
      "cell_type": "code",
      "source": [
        "def find3number(self,A, n):\n",
        "        if  n<3:\n",
        "            return []\n",
        "        leftMin = [0]*n\n",
        "        leftMin[0] = A[0]\n",
        "        for i in range(1,n):\n",
        "            leftMin[i] = min(leftMin[i-1],A[i])\n",
        "        rightMax = [0]*n\n",
        "        rightMax[n-1] = A[n-1]\n",
        "        for i in range(n-2,-1,-1):\n",
        "            rightMax[i] = max(rightMax[i+1],A[i])\n",
        "        for i in range(n):\n",
        "            if (leftMin[i]<A[i] and rightMax[i]>A[i]):\n",
        "                return [leftMin[i],A[i],rightMax[i]]\n",
        "        return []"
      ],
      "metadata": {
        "id": "KrnHRmk1UqE0"
      },
      "execution_count": null,
      "outputs": []
    }
  ]
}