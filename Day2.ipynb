{
  "nbformat": 4,
  "nbformat_minor": 0,
  "metadata": {
    "colab": {
      "name": "Day2.ipynb",
      "provenance": [],
      "authorship_tag": "ABX9TyMs+SpfSeoLNU5b9RLCBhef",
      "include_colab_link": true
    },
    "kernelspec": {
      "name": "python3",
      "display_name": "Python 3"
    },
    "language_info": {
      "name": "python"
    }
  },
  "cells": [
    {
      "cell_type": "markdown",
      "metadata": {
        "id": "view-in-github",
        "colab_type": "text"
      },
      "source": [
        "<a href=\"https://colab.research.google.com/github/chepurisaivignesh/chv_DSA_sprint/blob/main/Day2.ipynb\" target=\"_parent\"><img src=\"https://colab.research.google.com/assets/colab-badge.svg\" alt=\"Open In Colab\"/></a>"
      ]
    },
    {
      "cell_type": "markdown",
      "source": [
        "Started with Binary search trees and\n",
        "Notes from GFG"
      ],
      "metadata": {
        "id": "9rI6bU9uKUIj"
      }
    },
    {
      "cell_type": "markdown",
      "source": [
        "Given a sorted array of distinct integers and a target value, return the index if the target is found. If not, return the index where it would be if it were inserted in order.\n",
        "You must write an algorithm with O(log n) runtime complexity.\n",
        "\n",
        "Example 1-1:\n",
        "Input: nums = [1,3,5,6], target = 5;\n",
        "Output: 2\n",
        "\n",
        "Example 1-2:\n",
        "Input: nums = [1,3,5,6], target = 2;\n",
        "Output: 1\n",
        "\n",
        "Example 1-3:\n",
        "Input: nums = [1,3,5,6], target = 7;\n",
        "Output: 4"
      ],
      "metadata": {
        "id": "ZZKX4vQgKXew"
      }
    },
    {
      "cell_type": "markdown",
      "source": [
        "Second Code is for input with duplicates"
      ],
      "metadata": {
        "id": "2tFtHWs0Kr9O"
      }
    },
    {
      "cell_type": "code",
      "execution_count": null,
      "metadata": {
        "id": "gmT2u95GKNLR"
      },
      "outputs": [],
      "source": [
        "def searchInsert(self, nums: List[int], target: int) -> int:\n",
        "        left=0\n",
        "        right=len(nums)-1\n",
        "        while left<=right:\n",
        "            mid=(left+right)//2\n",
        "            if nums[mid]==target:\n",
        "                return mid\n",
        "            elif nums[mid]<target:\n",
        "                left=mid+1\n",
        "            else:\n",
        "                right=mid-1\n",
        "        return left"
      ]
    },
    {
      "cell_type": "code",
      "source": [
        "def searchInsert(self, nums, target): # works even if there are duplicates. \n",
        "    l , r = 0, len(nums)-1\n",
        "    while l <= r:\n",
        "        mid=(l+r)/2\n",
        "        if nums[mid] < target:\n",
        "            l = mid+1\n",
        "        else:\n",
        "            if nums[mid]== target and nums[mid-1]!=target:\n",
        "                return mid\n",
        "            else:\n",
        "                r = mid-1\n",
        "    return l"
      ],
      "metadata": {
        "id": "ARq304wnK5dx"
      },
      "execution_count": 1,
      "outputs": []
    },
    {
      "cell_type": "markdown",
      "source": [
        "Given a non-negative integer x, compute and return the square root of x.\n",
        "Since the return type is an integer, the decimal digits are truncated, and only the integer part of the result is returned.\n",
        "Note: You are not allowed to use any built-in exponent function or operator, such as pow(x, 0.5) or x ** 0.5.\n",
        "\n",
        "Example 2-1:\n",
        "Input: x = 4;\n",
        "Output: 2-2\n",
        "\n",
        "Example 2:\n",
        "Input: x = 8\n",
        "Output: 2\n",
        "\n",
        "Explanation: The square root of 8 is 2.82842..., and since the decimal part is truncated, 2 is returned."
      ],
      "metadata": {
        "id": "krS-OCHNLAv6"
      }
    },
    {
      "cell_type": "code",
      "source": [
        "def mySqrt(self, x):\n",
        "        l, r = 0, x\n",
        "        while l <= r:\n",
        "            mid = l + (r-l)//2\n",
        "            if mid * mid <= x < (mid+1)*(mid+1):\n",
        "                return mid\n",
        "            elif x < mid * mid:\n",
        "                r = mid - 1\n",
        "            else:\n",
        "                l = mid + 1"
      ],
      "metadata": {
        "id": "ryuPnfMCK-xy"
      },
      "execution_count": null,
      "outputs": []
    },
    {
      "cell_type": "markdown",
      "source": [
        "Given a characters array letters that is sorted in non-decreasing order and a character target, return the smallest character in the array that is larger than target.\n",
        "Note that the letters wrap around.\n",
        "For example, if target == 'z' and letters == ['a', 'b'], the answer is 'a'.\n",
        "\n",
        "Example 3-1:\n",
        "Input: letters = [\"c\",\"f\",\"j\"], target = \"a\";\n",
        "Output: \"c\"\n",
        "\n",
        "Example 3-2:\n",
        "Input: letters = [\"c\",\"f\",\"j\"], target = \"c\";\n",
        "Output: \"f\"\n",
        "\n",
        "Example 3-3:\n",
        "Input: letters = [\"c\",\"f\",\"j\"], target = \"d\";\n",
        "Output: \"f\""
      ],
      "metadata": {
        "id": "D9QEN7DhLaHz"
      }
    },
    {
      "cell_type": "code",
      "source": [
        "def nextGreatestLetter(self,letters, target) -> str:\n",
        "        letters=list(set(letters))\n",
        "        letters.sort()\n",
        "        if target>=letters[-1] or target<letters[0]:\n",
        "            return letters[0]\n",
        "        left=0\n",
        "        right=len(letters)-1\n",
        "        while left<=right:\n",
        "            mid=(left+right)//2\n",
        "            if letters[mid]==target: \n",
        "                return letters[mid+1]\n",
        "            elif letters[mid]<target:\n",
        "                left=mid+1\n",
        "            else:\n",
        "                right=mid-1\n",
        "        return letters[left]"
      ],
      "metadata": {
        "id": "kgkCFnQNLjyy"
      },
      "execution_count": null,
      "outputs": []
    },
    {
      "cell_type": "markdown",
      "source": [
        "Given an n x n matrix where each of the rows and columns is sorted in ascending order, return the kth smallest element in the matrix.\n",
        "Note that it is the kth smallest element in the sorted order, not the kth distinct element.\n",
        "You must find a solution with a memory complexity better than O(n^2).\n",
        "\n",
        "Example 4-1:\n",
        "Input: matrix = [[1,5,9],[10,11,13],[12,13,15]], k = 8;\n",
        "Output: 13\n",
        "\n",
        "Explanation: The elements in the matrix are [1,5,9,10,11,12,13,13,15], and the 8th smallest number is 13.\n",
        "\n",
        "Example 4-2:\n",
        "Input: matrix = [[-5]], k = 1;\n",
        "Output: -5"
      ],
      "metadata": {
        "id": "ZJSA5CmqLnXL"
      }
    },
    {
      "cell_type": "code",
      "source": [
        "class Solution:\n",
        "    def kthSmallest(self, matrix, k):\n",
        "        l=[]\n",
        "        for x in matrix:\n",
        "            l=l+x\n",
        "        l.sort()\n",
        "        return l[k-1]"
      ],
      "metadata": {
        "id": "7QB4tot_Lx89"
      },
      "execution_count": null,
      "outputs": []
    },
    {
      "cell_type": "markdown",
      "source": [
        "#Best resources for Two-Pointer Approach:\n",
        "\n",
        "https://towardsdatascience.com/two-pointer-approach-python-code-f3986b602640 \n",
        "\n",
        "and\n",
        "\n",
        "https://www.pluralsight.com/guides/algorithm-templates:-two-pointers-part-1"
      ],
      "metadata": {
        "id": "XvDox39ML7tt"
      }
    },
    {
      "cell_type": "markdown",
      "source": [
        "Given an array S of n integers, find three integers in S such that the sum is closest to a given number, target. \n",
        "Return the sum of the three integers.\n",
        "Assume that there will only be one solution\n",
        "\n",
        "Example: \n",
        "given array S = {-1 2 1 -4}, and target = 1.\n",
        "\n",
        "The sum that is closest to the target is 2. (-1 + 2 + 1 = 2)"
      ],
      "metadata": {
        "id": "KtpgHqrFMO8j"
      }
    },
    {
      "cell_type": "code",
      "source": [
        "def threeSumClosest(self, A, B):\n",
        "        if len(A) < 3:\n",
        "            return B\n",
        "        if len(A) == 3:\n",
        "            return sum(A)\n",
        "        A.sort()\n",
        "        ans=sum(A[0:3])\n",
        "\n",
        "        for i in range(len(A) - 2):\n",
        "                l, r = i+1, len(A) - 1\n",
        "                while l < r:\n",
        "                    if abs(ans - B) > abs(A[i] + A[l] + A[r] - B):\n",
        "                        ans = A[i] + A[l] + A[r]\n",
        "                    if A[i] + A[l] + A[r] > B:\n",
        "                        r -= 1\n",
        "                    elif A[i] + A[l] + A[r] < B:\n",
        "                        l += 1\n",
        "                    else:\n",
        "                        return B\n",
        "        return ans"
      ],
      "metadata": {
        "id": "RCxCo4DGMIq-"
      },
      "execution_count": null,
      "outputs": []
    },
    {
      "cell_type": "markdown",
      "source": [
        "#Note:\n",
        "If the question is asked to find the number nearer and so forth or with lessthan or greater than equality use if once and then other if-elif-else statement like above problem not like tradaitional algo which is written in my notes."
      ],
      "metadata": {
        "id": "zGfZBI1UMdbz"
      }
    },
    {
      "cell_type": "markdown",
      "source": [
        "Given a sorted array A consisting of duplicate elements.\n",
        "Your task is to remove all the duplicates and return a sorted array of distinct elements consisting of all distinct elements present in A.\n",
        "But, instead of returning an answer array, you have to rearrange the given array in-place such that it resembles what has been described above.\n",
        "Hence, return a single integer, the index(1-based) till which the answer array would reside in the given array A.\n",
        "Note: This integer is the same as the number of integers remaining inside A had we removed all the duplicates.\n",
        "\n",
        "Input Format:\n",
        "First and only argurment containing the integer array A;\n",
        "Output Format:\n",
        "Return a single integer, as per the problem given.\n",
        "\n",
        "Example\n",
        "Input 1:\n",
        "A = [1, 1, 2]\n",
        "\n",
        "Input 2:\n",
        "A = [1, 2, 2, 3, 3]\n",
        "\n",
        "Example Output\n",
        "Output 1:\n",
        "2\n",
        "\n",
        "Output 2:\n",
        "3\n",
        "\n",
        "Example\n",
        "Explanation 1:\n",
        "Updated Array: [1, 2, X] after rearranging. Note that there could be any number in place of x since we dont need it.\n",
        "We return 2 here.\n",
        "\n",
        "Explanation 2:\n",
        "Updated Array: [1, 2, 3, X, X] after rearranging duplicates of 2 and 3.\n",
        "We return 3 from here."
      ],
      "metadata": {
        "id": "F9kiCuXKMos3"
      }
    },
    {
      "cell_type": "code",
      "source": [
        "def removeDuplicates(self, nums):\n",
        "        if not nums:\n",
        "            return 0\n",
        "        slow = 0\n",
        "        for fast in range(1, len(nums)):\n",
        "            # if current element is not duplicate, \n",
        "            # slow runner grows one step and copys the current value\n",
        "            if nums[slow] != nums[fast]:\n",
        "                slow += 1\n",
        "                nums[slow] = nums[fast]\n",
        "        return slow + 1"
      ],
      "metadata": {
        "id": "J39zGmpEMhjj"
      },
      "execution_count": null,
      "outputs": []
    }
  ]
}