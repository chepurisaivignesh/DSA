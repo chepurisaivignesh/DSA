{
  "nbformat": 4,
  "nbformat_minor": 0,
  "metadata": {
    "colab": {
      "name": "Day4.ipynb",
      "provenance": [],
      "authorship_tag": "ABX9TyOrlh0UKjUmTQPuPsuoO3pO",
      "include_colab_link": true
    },
    "kernelspec": {
      "name": "python3",
      "display_name": "Python 3"
    },
    "language_info": {
      "name": "python"
    }
  },
  "cells": [
    {
      "cell_type": "markdown",
      "metadata": {
        "id": "view-in-github",
        "colab_type": "text"
      },
      "source": [
        "<a href=\"https://colab.research.google.com/github/chepurisaivignesh/chv_DSA_sprint/blob/main/Day4.ipynb\" target=\"_parent\"><img src=\"https://colab.research.google.com/assets/colab-badge.svg\" alt=\"Open In Colab\"/></a>"
      ]
    },
    {
      "cell_type": "markdown",
      "source": [
        "Given an array Arr of N positive integers and another number X. Determine whether or not there exist two elements in Arr whose sum is exactly X.\n",
        "\n",
        "Example:\n",
        "\n",
        "Input:\n",
        "N = 6, X = 16;\n",
        "Arr[] = {1, 4, 45, 6, 10, 8};\n",
        "Output: Yes;\n",
        "Explanation: Arr[3] + Arr[4] = 6 + 10 = 16\n",
        "\n",
        "Example:\n",
        "\n",
        "Input:\n",
        "N = 5, X = 10;\n",
        "Arr[] = {1, 2, 4, 3, 6};\n",
        "Output: Yes;\n",
        "Explanation: Arr[2] + Arr[4] = 4 + 6 = 10"
      ],
      "metadata": {
        "id": "9cPgzU9jbRVw"
      }
    },
    {
      "cell_type": "code",
      "execution_count": null,
      "metadata": {
        "id": "ZRxBKngWbOlk"
      },
      "outputs": [],
      "source": [
        "def hasArrayTwoCandidates(self,arr, n, x):\n",
        "\t    map = {}\n",
        "        for i in range(0,n):\n",
        "            temp = x-arr[i]\n",
        "            if (temp in map):\n",
        "                return True\n",
        "            else:\n",
        "                map[arr[i]] = arr[i]\n",
        "        return False"
      ]
    },
    {
      "cell_type": "markdown",
      "source": [
        "Given an array arr of size n and an integer X. Find if there's a triplet in the array which sums up to the given integer X.\n",
        "\n",
        "Example:\n",
        "\n",
        "Input:\n",
        "n = 6, X = 13;\n",
        "arr= [1 4 45 6 10 8];\n",
        "Output:\n",
        "1;\n",
        "Explanation:\n",
        "The triplet {1, 4, 8} in \n",
        "the array sums up to 13.\n",
        "\n",
        "Example:\n",
        "\n",
        "Input:\n",
        "n = 5, X = 10;\n",
        "arr= [1 2 4 3 6];\n",
        "Output:\n",
        "1;\n",
        "Explanation:\n",
        "The triplet {1, 3, 6} in \n",
        "the array sums up to 10."
      ],
      "metadata": {
        "id": "CXqfHRbtecaB"
      }
    },
    {
      "cell_type": "code",
      "source": [
        "def find3Numbers(self,A, n, X):\n",
        "        Arr=A.copy()\n",
        "        for i in range(len(A)):\n",
        "            x=X-A[i]\n",
        "            Arr.pop(i)\n",
        "            map={}\n",
        "            for j in range(len(Arr)):\n",
        "                temp=x-Arr[j]\n",
        "                if temp in map:\n",
        "                    return True\n",
        "                else:\n",
        "                    map[Arr[j]]=Arr[j]\n",
        "            Arr[:]=A.copy()\n",
        "        return False"
      ],
      "metadata": {
        "id": "lj00YbOJeust"
      },
      "execution_count": null,
      "outputs": []
    },
    {
      "cell_type": "markdown",
      "source": [
        ""
      ],
      "metadata": {
        "id": "TpgyCF8Fexcm"
      }
    }
  ]
}