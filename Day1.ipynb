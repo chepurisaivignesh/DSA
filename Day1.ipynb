{
  "nbformat": 4,
  "nbformat_minor": 0,
  "metadata": {
    "colab": {
      "name": "Day1.ipynb",
      "provenance": [],
      "authorship_tag": "ABX9TyPpJ77RqeDIWgK6xsq4RTXP",
      "include_colab_link": true
    },
    "kernelspec": {
      "name": "python3",
      "display_name": "Python 3"
    },
    "language_info": {
      "name": "python"
    }
  },
  "cells": [
    {
      "cell_type": "markdown",
      "metadata": {
        "id": "view-in-github",
        "colab_type": "text"
      },
      "source": [
        "<a href=\"https://colab.research.google.com/github/chepurisaivignesh/chv_DSA_sprint/blob/main/Day1.ipynb\" target=\"_parent\"><img src=\"https://colab.research.google.com/assets/colab-badge.svg\" alt=\"Open In Colab\"/></a>"
      ]
    },
    {
      "cell_type": "markdown",
      "source": [
        "Started learning DSA\n",
        "Gone through Dr.Bari Algorithm Playlist (1-16 Videos) for knowledge about \"Time and Space Complexity\".\n",
        "And started with Arrays,\n",
        "                    Learnt difference b/w lists vs arrays,\n",
        "                    Methods in arrays,\n",
        "                    Solved some selected problems from \"SUMMER VACATION DSA PROBLEM SHEET\" by CodeSkool in Arrays on GeeksForGeeks."
      ],
      "metadata": {
        "id": "Xsv85OqOIHok"
      }
    },
    {
      "cell_type": "markdown",
      "source": [
        "Problem1:\n",
        "Given a sorted array arr[] of distinct integers. Sort the array into a wave-like array and return it\n",
        "In other words, arrange the elements into a sequence such that arr[1] >= arr[2] <= arr[3] >= arr[4] <= arr[5].....\n",
        "If there are multiple solutions, find the lexicographically smallest one.\n",
        "\n",
        "Example:\n",
        "\n",
        "Input:n = 5 ;arr= {1,2,3,4,5}\n",
        "\n",
        "Output: 2 1 4 3 5\n",
        "\n",
        "Explanation: Array elements after sorting it in wave form are 2 1 4 3 5.\n",
        "\n",
        "\n",
        "\n"
      ],
      "metadata": {
        "id": "lfLfKFs5IaLf"
      }
    },
    {
      "cell_type": "code",
      "execution_count": null,
      "metadata": {
        "id": "6d3ZJIfxH_Ak"
      },
      "outputs": [],
      "source": [
        "def convertToWave(self, n : int, a : List[int]) -> None:\n",
        "       for i in range(0,n-1,2):\n",
        "           a[i],a[i+1]=a[i+1],a[i]\n",
        "       print(\" \".join(str(x) for x in a))"
      ]
    },
    {
      "cell_type": "markdown",
      "source": [
        "Given an array of size N containing only 0s, 1s, and 2s; sort the array in ascending order.\n",
        "\n",
        "Example:\n",
        "\n",
        "Input: N = 5; arr= {0 2 1 2 0}\n",
        "\n",
        "Output: 0 0 1 2 2\n",
        "\n",
        "Explanation: 0s 1s and 2s are segregated into ascending order."
      ],
      "metadata": {
        "id": "JJxGdRwkJJ0I"
      }
    },
    {
      "cell_type": "code",
      "source": [
        "def sort012(self,array,n):\n",
        "        a0=[]\n",
        "        a1=[]\n",
        "        a2=[]\n",
        "        for number in array:\n",
        "            if number==0:\n",
        "                a0.append(number)\n",
        "            elif number==1:\n",
        "                a1.append(number)\n",
        "            else:\n",
        "                a2.append(number)\n",
        "        array[:]=a0+a1+a2 or return array"
      ],
      "metadata": {
        "id": "VYzeH_BXJVhy"
      },
      "execution_count": null,
      "outputs": []
    },
    {
      "cell_type": "markdown",
      "source": [
        "Given an unsorted array A of size N that contains only non-negative integers, find a continuous sub-array which adds to a given number S.\n",
        "In case of multiple subarrays, return the subarray which comes first on moving from left to right.\n",
        "\n",
        "Example 1:\n",
        "\n",
        "Input:\n",
        "      N = 5, S = 12;\n",
        "      A= {1,2,3,7,5}\n",
        "\n",
        "Output: 2 4\n",
        "\n",
        "Explanation: The sum of elements from 2nd position to 4th position is 12."
      ],
      "metadata": {
        "id": "LE3Qn7OYJZXm"
      }
    },
    {
      "cell_type": "code",
      "source": [
        "def subArraySum(self,A, n, s):\n",
        "        for i in range(n):  \n",
        "            currentsum = A[i]  \n",
        "        # start array with the initial index   \n",
        "        # try all subarrays  \n",
        "        # starting with 'i'  \n",
        "            j = i + 1  \n",
        "            while j <= n:  \n",
        "           \n",
        "                if currentsum == s:  \n",
        "                    return [i+1,j]  \n",
        "                if currentsum > s or j == n:  \n",
        "                    break  \n",
        "                currentsum = currentsum + A[j]  \n",
        "                j = j +1  \n",
        "        return [-1]   "
      ],
      "metadata": {
        "id": "la0d_3ZgJhtN"
      },
      "execution_count": null,
      "outputs": []
    },
    {
      "cell_type": "markdown",
      "source": [
        "Given an array of integers. Find the contiguous sub-array(containing at least one number) which has the maximum sum and return its sum.\n",
        "\n",
        "Example:\n",
        "\n",
        "Input:\n",
        "      N = 5;\n",
        "      Arr = {1,2,3,-2,5}\n",
        "\n",
        "Output: 9\n",
        "\n",
        "Explanation: Max subarray sum is 9 of elements (1, 2, 3, -2, 5) which is a contiguous subarray."
      ],
      "metadata": {
        "id": "iKfmUgkRJk2-"
      }
    },
    {
      "cell_type": "code",
      "source": [
        "def maxSubArraySum(self,a,size):\n",
        "        maxsum=a[0]\n",
        "        maxtillelement=0\n",
        "        for i in a:\n",
        "            maxtillelement+=i\n",
        "            if maxsum<maxtillelement:\n",
        "                maxsum=maxtillelement\n",
        "            if maxtillelement<0:\n",
        "                maxtillelement=0\n",
        "        return maxsum"
      ],
      "metadata": {
        "id": "C5A9lZssJwim"
      },
      "execution_count": null,
      "outputs": []
    },
    {
      "cell_type": "markdown",
      "source": [
        "iven an array of size N-1 such that it only contains distinct integers in the range of 1 to N. Find the missing element.\n",
        "\n",
        "Example:\n",
        "\n",
        "Input:\n",
        "      N = 5;\n",
        "      A= {1,2,3,5}\n",
        "\n",
        "Output: 4"
      ],
      "metadata": {
        "id": "QCtbfLQSJzip"
      }
    },
    {
      "cell_type": "code",
      "source": [
        "def MissingNumber(self,array,n):\n",
        "        array.sort()\n",
        "        if array[0]!=1:\n",
        "            return 1\n",
        "        elif array[-1]!=n:\n",
        "            return n\n",
        "        value=array[0]+1\n",
        "        i=0\n",
        "        while i<len(array):\n",
        "          if array[i+1]!=value:\n",
        "            return value\n",
        "          else:\n",
        "            i+=1\n",
        "            value+=1"
      ],
      "metadata": {
        "id": "X_1spCwVJ7UP"
      },
      "execution_count": null,
      "outputs": []
    }
  ]
}