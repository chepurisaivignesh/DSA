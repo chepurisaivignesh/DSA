{
  "nbformat": 4,
  "nbformat_minor": 0,
  "metadata": {
    "colab": {
      "name": "Day3.ipynb",
      "provenance": [],
      "authorship_tag": "ABX9TyMoNgDcxK4feAvUK+KykSUc",
      "include_colab_link": true
    },
    "kernelspec": {
      "name": "python3",
      "display_name": "Python 3"
    },
    "language_info": {
      "name": "python"
    }
  },
  "cells": [
    {
      "cell_type": "markdown",
      "metadata": {
        "id": "view-in-github",
        "colab_type": "text"
      },
      "source": [
        "<a href=\"https://colab.research.google.com/github/chepurisaivignesh/chv_DSA_sprint/blob/main/Day3.ipynb\" target=\"_parent\"><img src=\"https://colab.research.google.com/assets/colab-badge.svg\" alt=\"Open In Colab\"/></a>"
      ]
    },
    {
      "cell_type": "markdown",
      "source": [
        "Given two arrays a and b of size m and n respectively. The task is to find union between these two arrays.\n",
        "Union of the two arrays can be defined as the set containing distinct elements from both the arrays. If there are repetitions, then only one occurrence of element should be printed in the union."
      ],
      "metadata": {
        "id": "mN3vbq8pMLIR"
      }
    },
    {
      "cell_type": "code",
      "execution_count": null,
      "metadata": {
        "id": "wiyOzIv3L094"
      },
      "outputs": [],
      "source": [
        "class Solution:    \n",
        "    #Function to return the count of number of elements in union of two arrays.\n",
        "    def doUnion(self,arr1,m,arr2,n):\n",
        "        hs = set()\n",
        " \n",
        "        # Insert the elements of arr1[] to set hs\n",
        "        for i in range(0, m):\n",
        "            hs.add(arr1[i])\n",
        "     \n",
        "        # Insert the elements of arr1[] to set hs\n",
        "        for i in range(0, n):\n",
        "            hs.add(arr2[i])\n",
        "\n",
        "        return (len(hs))"
      ]
    },
    {
      "cell_type": "markdown",
      "source": [
        "In a party of N people, each person is denoted by an integer. Couples are represented by the same number. Find out the only single person in the party of couples.\n",
        "\n",
        "Example:\n",
        "Input: N = 5\n",
        "arr = {1, 2, 3, 2, 1}\n",
        "Output: 3\n",
        "Explaination: Only the number 3 is single.\n",
        "\n",
        "Example:\n",
        "Input: N = 11\n",
        "arr = {1, 2, 3, 5, 3, 2, 1, 4, 5, 6, 6}\n",
        "Output: 4\n",
        "Explaination: 4 is the only single."
      ],
      "metadata": {
        "id": "lcWyWSD8Z13p"
      }
    },
    {
      "cell_type": "code",
      "source": [
        "class Solution:\n",
        "    def findSingle(self, size, arr):\n",
        "        # Defining HashMap in C++\n",
        "        Hash=dict()\n",
        "        # Putting all elements into the HashMap \n",
        "        for i in range(size):\n",
        "            Hash[arr[i]]=Hash.get(arr[i],0) + 1\n",
        "        # Iterate through HashMap to check an element\n",
        "        # occurring odd number of times and return it\n",
        "        for i in Hash:\n",
        "            if(Hash[i]==1):\n",
        "                return i"
      ],
      "metadata": {
        "id": "L04JzoY3otdA"
      },
      "execution_count": null,
      "outputs": []
    }
  ]
}