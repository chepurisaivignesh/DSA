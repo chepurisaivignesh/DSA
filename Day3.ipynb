{
  "nbformat": 4,
  "nbformat_minor": 0,
  "metadata": {
    "colab": {
      "name": "Day3.ipynb",
      "provenance": [],
      "collapsed_sections": [],
      "authorship_tag": "ABX9TyMXdlPZm2JJI9UxiniGBLTQ",
      "include_colab_link": true
    },
    "kernelspec": {
      "name": "python3",
      "display_name": "Python 3"
    },
    "language_info": {
      "name": "python"
    }
  },
  "cells": [
    {
      "cell_type": "markdown",
      "metadata": {
        "id": "view-in-github",
        "colab_type": "text"
      },
      "source": [
        "<a href=\"https://colab.research.google.com/github/chepurisaivignesh/chv_DSA_sprint/blob/main/Day3.ipynb\" target=\"_parent\"><img src=\"https://colab.research.google.com/assets/colab-badge.svg\" alt=\"Open In Colab\"/></a>"
      ]
    },
    {
      "cell_type": "markdown",
      "source": [
        "Given two arrays a and b of size m and n respectively. The task is to find union between these two arrays.\n",
        "Union of the two arrays can be defined as the set containing distinct elements from both the arrays. If there are repetitions, then only one occurrence of element should be printed in the union."
      ],
      "metadata": {
        "id": "mN3vbq8pMLIR"
      }
    },
    {
      "cell_type": "code",
      "execution_count": null,
      "metadata": {
        "id": "wiyOzIv3L094"
      },
      "outputs": [],
      "source": [
        "class Solution:    \n",
        "    #Function to return the count of number of elements in union of two arrays.\n",
        "    def doUnion(self,arr1,m,arr2,n):\n",
        "        hs = set()\n",
        " \n",
        "        # Insert the elements of arr1[] to set hs\n",
        "        for i in range(0, m):\n",
        "            hs.add(arr1[i])\n",
        "     \n",
        "        # Insert the elements of arr1[] to set hs\n",
        "        for i in range(0, n):\n",
        "            hs.add(arr2[i])\n",
        "\n",
        "        return (len(hs))"
      ]
    },
    {
      "cell_type": "markdown",
      "source": [
        "In a party of N people, each person is denoted by an integer. Couples are represented by the same number. Find out the only single person in the party of couples.\n",
        "\n",
        "Example:\n",
        "Input: N = 5\n",
        "arr = {1, 2, 3, 2, 1}\n",
        "Output: 3\n",
        "Explaination: Only the number 3 is single.\n",
        "\n",
        "Example:\n",
        "Input: N = 11\n",
        "arr = {1, 2, 3, 5, 3, 2, 1, 4, 5, 6, 6}\n",
        "Output: 4\n",
        "Explaination: 4 is the only single."
      ],
      "metadata": {
        "id": "lcWyWSD8Z13p"
      }
    },
    {
      "cell_type": "code",
      "source": [
        "class Solution:\n",
        "    def findSingle(self, size, arr):\n",
        "        # Defining HashMap in C++\n",
        "        Hash=dict()\n",
        "        # Putting all elements into the HashMap \n",
        "        for i in range(size):\n",
        "            Hash[arr[i]]=Hash.get(arr[i],0) + 1\n",
        "        # Iterate through HashMap to check an element\n",
        "        # occurring odd number of times and return it\n",
        "        for i in Hash:\n",
        "            if(Hash[i]==1):\n",
        "                return i"
      ],
      "metadata": {
        "id": "L04JzoY3otdA"
      },
      "execution_count": null,
      "outputs": []
    },
    {
      "cell_type": "markdown",
      "source": [
        "Given an array A containing 2*N+2 positive numbers, out of which 2*N numbers exist in pairs whereas the other two number occur exactly once and are distinct. Find the other two numbers.\n",
        "\n",
        "\n",
        "Example 1:\n",
        "\n",
        "Input: \n",
        "N = 2;\n",
        "arr = {1, 2, 3, 2, 1, 4}\n",
        "\n",
        "Output:\n",
        "3 4 \n",
        "\n",
        "Explanation:\n",
        "3 and 4 occur exactly once.\n",
        "\n",
        "Example 2:\n",
        "\n",
        "Input:\n",
        "N = 1;\n",
        "arr= {2, 1, 3, 2}\n",
        "\n",
        "Output:\n",
        "1 3\n",
        "\n",
        "Explanation:\n",
        "1 3 occur exactly once."
      ],
      "metadata": {
        "id": "XBUieZZpPgqy"
      }
    },
    {
      "cell_type": "code",
      "source": [
        "def singleNumber(self, nums):\n",
        "\t\tHash=dict()\n",
        "\t\tfor x in range(len(nums)):\n",
        "\t\t    Hash[nums[x]]=Hash.get(nums[x],0)+1\n",
        "\t    answer=[]\n",
        "\t    for y in Hash:\n",
        "\t        if Hash[y]==1:\n",
        "\t            answer.append(y)\n",
        "        answer.sort()\n",
        "        return answer"
      ],
      "metadata": {
        "id": "yEhtDhKMPy2f"
      },
      "execution_count": null,
      "outputs": []
    },
    {
      "cell_type": "markdown",
      "source": [
        "Given an unsorted array, arr[] of size N and that contains even number of occurrences for all numbers except two numbers. Find the two numbers in decreasing order which has odd occurrences.\n",
        "\n",
        "Example 1:\n",
        "\n",
        "Input:\n",
        "N = 8\n",
        "Arr = {4, 2, 4, 5, 2, 3, 3, 1};\n",
        "Output: {5, 1} \n",
        "\n",
        "Explaination: 5 and 1 have odd occurrences.\n",
        "\n",
        "Example 2:\n",
        "\n",
        "Input:\n",
        "N = 6\n",
        "Arr = {1 7 5 5 4 4};\n",
        "Output: {7, 1}\n",
        "\n",
        "Explaination: 7 and 1 have odd occurrences."
      ],
      "metadata": {
        "id": "oyIUJCxiP1_W"
      }
    },
    {
      "cell_type": "code",
      "source": [
        "def twoOddNum(self, Arr, N):\n",
        "        # code here\n",
        "        Hash=dict()\n",
        "        for x in range(len(Arr)):\n",
        "            Hash[Arr[x]]=Hash.get(Arr[x],0)+1\n",
        "        answer=[]\n",
        "        for y in Hash:\n",
        "            if Hash[y]%2!=0:\n",
        "                answer.append(y)\n",
        "        answer.sort(reverse=True)\n",
        "        return answer"
      ],
      "metadata": {
        "id": "1GZtXo29dZ4g"
      },
      "execution_count": null,
      "outputs": []
    },
    {
      "cell_type": "markdown",
      "source": [
        "#Next Prime Palindrome\n",
        "You will be given a positive integer N. Your task is to find the smallest number greater than or equal to N that is a prime and a palindrome.\n",
        "\n",
        "Example 1:\n",
        "\n",
        "Input: N = 12\n",
        " ;  Output: 101\n",
        "\n",
        "Example 2:\n",
        "\n",
        "Input: N = 4\n",
        " ;  Output: 5"
      ],
      "metadata": {
        "id": "dNfmkvD3dmVf"
      }
    },
    {
      "cell_type": "markdown",
      "source": [
        "##First Solution has passed only half of the test cases\n",
        "##Second Solution is copied and is solution with correct solution"
      ],
      "metadata": {
        "id": "zlbnkUzu_Re4"
      }
    },
    {
      "cell_type": "code",
      "source": [
        "def prime(number):\n",
        "        for j in range(2,number):\n",
        "            if number%j==0:\n",
        "                return False\n",
        "        else:\n",
        "            return True\n",
        "class Solution:\n",
        "    def PrimePalindrome(self, N):\n",
        "        if N==0 or N==1 or N==2:\n",
        "            return 2\n",
        "        for k in range(N,N**2):\n",
        "            if k==int(str(k)[::-1]):\n",
        "                if prime(k):\n",
        "                    return k"
      ],
      "metadata": {
        "id": "RUz0MYrF_EZH"
      },
      "execution_count": null,
      "outputs": []
    },
    {
      "cell_type": "code",
      "source": [
        "class Solution:\n",
        "\tdef isprime(self,num):\n",
        "        if num==1:\n",
        "            return False\n",
        "        for i in range(2,num):\n",
        "            if num%i==0:\n",
        "                return False\n",
        "        return True\n",
        "        \n",
        "    def PrimePalindrome(self, N):\n",
        "        # Code here\n",
        "        i=N\n",
        "        while True:\n",
        "            s=str(i)\n",
        "            if len(s)%2==0:\n",
        "                v=s[:len(s)//2]\n",
        "                n=int(v+v[::-1])\n",
        "                print(\"If\",n)\n",
        "\n",
        "                if n>=N and self.isprime(n):\n",
        "                    return n\n",
        "            else:\n",
        "                v=s[:len(s)//2]\n",
        "                n=int(v+s[len(s)//2]+v[::-1])\n",
        "                print(\"else\",n)\n",
        "                if n>=N and self.isprime(n):\n",
        "                    return n\n",
        "            v=len(s)//2\n",
        "            i=((n//(10**v))+1)*(10**v)\n",
        "            print(v,i)"
      ],
      "metadata": {
        "id": "gOCzhuwz_izX"
      },
      "execution_count": null,
      "outputs": []
    },
    {
      "cell_type": "markdown",
      "source": [
        "#Find next greater number with same set of digits\n",
        "\n",
        "Given a number n, find the smallest number that has same set of digits as n and is greater than n. If n is the greatest possible number with its set of digits, then print “not possible”.\n",
        "\n",
        "Examples:\n",
        "\n",
        "Input:  n = \"218765\"\n",
        "Output: \"251678\"\n",
        "\n",
        "Input:  n = \"1234\"\n",
        "Output: \"1243\"\n",
        "\n",
        "Input: n = \"4321\"\n",
        "Output: \"Not Possible\"\n",
        "\n",
        "Input: n = \"534976\"\n",
        "Output: \"536479\"\n",
        "\n",
        "Following are few observations about the next greater number.\n",
        "\n",
        "1) If all digits sorted in descending order, then output is always “Not Possible”. For example, 4321. \n",
        "2) If all digits are sorted in ascending order, then we need to swap last two digits. For example, 1234. \n",
        "3) For other cases, we need to process the number from rightmost side (why? because we need to find the smallest of all greater numbers)\n",
        "\n",
        "##Following is the algorithm for finding the next greater number.\n",
        "\n",
        "I) Traverse the given number from rightmost digit, keep traversing till you find a digit which is smaller than the previously traversed digit. For example, if the input number is “534976”, we stop at 4 because 4 is smaller than next digit 9. If we do not find such a digit, then output is “Not Possible”.\n",
        "\n",
        "II) Now search the right side of above found digit ‘d’ for the smallest digit greater than ‘d’. For “534976″, the right side of 4 contains “976”. The smallest digit greater than 4 is 6.\n",
        "\n",
        "III) Swap the above found two digits, we get 536974 in above example.\n",
        "\n",
        "IV) Now sort all digits from position next to ‘d’ to the end of number. The number that we get after sorting is the output. For above example, we sort digits in bold 536974. We get “536479” which is the next greater number for input 534976."
      ],
      "metadata": {
        "id": "BS2VAeVwVMDc"
      }
    },
    {
      "cell_type": "code",
      "source": [
        "# Python program to find the smallest number which\n",
        "# is greater than a given no. has same set of\n",
        "# digits as given number\n",
        "\n",
        "# Given number as int array, this function finds the\n",
        "# greatest number and returns the number as integer\n",
        "def findNext(number,n):\n",
        "\t\n",
        "\t# Start from the right most digit and find the first\n",
        "\t# digit that is smaller than the digit next to it\n",
        "\tfor i in range(n-1,0,-1):\n",
        "\t\tif number[i] > number[i-1]:\n",
        "\t\t\tbreak\n",
        "\t\t\t\n",
        "\t# If no such digit found,then all numbers are in\n",
        "\t# descending order, no greater number is possible\n",
        "\tif i == 1 and number[i] <= number[i-1]:\n",
        "\t\tprint (\"Next number not possible\")\n",
        "\t\treturn\n",
        "\t\t\n",
        "\t# Find the smallest digit on the right side of\n",
        "\t# (i-1)'th digit that is greater than number[i-1]\n",
        "\tx = number[i-1]\n",
        "\tsmallest = i\n",
        "\tfor j in range(i+1,n):\n",
        "\t\tif number[j] > x and number[j] < number[smallest]:\n",
        "\t\t\tsmallest = j\n",
        "\t\t\n",
        "\t# Swapping the above found smallest digit with (i-1)'th\n",
        "\tnumber[smallest],number[i-1] = number[i-1], number[smallest]\n",
        "\t\n",
        "\t# X is the final number, in integer datatype\n",
        "\tx = 0\n",
        "\t# Converting list upto i-1 into number\n",
        "\tfor j in range(i):\n",
        "\t\tx = x * 10 + number[j]\n",
        "\t\n",
        "\t# Sort the digits after i-1 in ascending order\n",
        "\tnumber = sorted(number[i:])\n",
        "\t# converting the remaining sorted digits into number\n",
        "\tfor j in range(n-i):\n",
        "\t\tx = x * 10 + number[j]\n",
        "\t\n",
        "\tprint (\"Next number with set of digits is\",x)\n",
        "\n",
        "\n",
        "# Driver Program to test above function\n",
        "digits = \"534976\"\t\t\n",
        "\n",
        "# converting into integer array,\n",
        "# number becomes [5,3,4,9,7,6]\n",
        "number = list(map(int ,digits))\n",
        "findNext(number, len(digits))\n",
        "\n"
      ],
      "metadata": {
        "id": "mE0odc18VTJB"
      },
      "execution_count": null,
      "outputs": []
    },
    {
      "cell_type": "markdown",
      "source": [
        "Time Complexity: O(N*logN) \n",
        "\n",
        "Auxiliary Space: O(1)\n",
        "\n",
        "The above implementation can be optimized in following ways. \n",
        "\n",
        "1) We can use binary search in step II instead of linear search. \n",
        "\n",
        "2) In step IV, instead of doing simple sort, we can apply some clever technique to do it in linear time. Hint: We know that all digits are linearly sorted in reverse order except one digit which was swapped.\n",
        "With above optimizations, we can say that the time complexity of this method is O(n). \n",
        "\n",
        "Optimised Approach : Time Complexity: O(N);\n",
        "Auxiliary Space: O(1)\n",
        "\n",
        "1. Here instead of sorting the digits after (i-1) index, we are reversing the digits as mentioned in the above optimisation point.\n",
        "2. As they will be in decreasing order so to find the smallest element possible from the right part we just reverse them thus reducing time complexity.\n",
        "\n",
        "Below is the implementation of the above approach:"
      ],
      "metadata": {
        "id": "KTU1O55FWJOw"
      }
    },
    {
      "cell_type": "code",
      "source": [
        "# A python program to find the next greatest number\n",
        "def nextPermutation(arr):\n",
        "\n",
        "\t# find the length of the array\n",
        "\tn = len(arr)\n",
        "\t\n",
        "\t# start from the right most digit and find the first\n",
        "\t# digit that is smaller than the digit next to it.\n",
        "\tk = n - 2\n",
        "\twhile k >= 0:\n",
        "\t\tif arr[k] < arr[k + 1]:\n",
        "\t\t\tbreak\n",
        "\t\tk -= 1\n",
        "\t\t\n",
        "\t# reverse the list if the digit that is smaller than the\n",
        "\t# digit next to it is not found.\n",
        "\tif k < 0:\n",
        "\t\tarr = arr[::-1]\n",
        "\telse:\n",
        "\t\n",
        "\t\t# find the first greatest element than arr[k] from the\n",
        "\t\t# end of the list\n",
        "\t\tfor l in range(n - 1, k, -1):\n",
        "\t\t\tif arr[l] > arr[k]:\n",
        "\t\t\t\tbreak\n",
        "\n",
        "\t\t# swap the elements at arr[k] and arr[l\t\n",
        "\t\tarr[l], arr[k] = arr[k], arr[l]\n",
        "\t\t\n",
        "\t\t# reverse the list from k + 1 to the end to find the\n",
        "\t\t# most nearest greater number to the given input number\n",
        "\t\tarr[k + 1:] = reversed(arr[k + 1:])\n",
        "\n",
        "\treturn arr\n",
        "\n",
        "# Driver code\n",
        "arr = [5, 3, 4, 9, 7, 6]\n",
        "print(*nextPermutation(arr))\n"
      ],
      "metadata": {
        "id": "4LzQTfO4WTZG"
      },
      "execution_count": null,
      "outputs": []
    }
  ]
}